{
  "nbformat": 4,
  "nbformat_minor": 0,
  "metadata": {
    "colab": {
      "provenance": []
    },
    "kernelspec": {
      "name": "python3",
      "display_name": "Python 3"
    },
    "language_info": {
      "name": "python"
    }
  },
  "cells": [
    {
      "cell_type": "code",
      "source": [
        "# This will tell you your current IP address from google colab\n",
        "!curl api.ipify.org"
      ],
      "metadata": {
        "colab": {
          "base_uri": "https://localhost:8080/"
        },
        "id": "ZOcIc9uiBiBm",
        "outputId": "9aa121e9-7323-41bd-b24f-67ecec8d1602"
      },
      "execution_count": null,
      "outputs": [
        {
          "output_type": "stream",
          "name": "stdout",
          "text": [
            "35.194.229.58"
          ]
        }
      ]
    },
    {
      "cell_type": "code",
      "source": [
        "# Install needed python packages\n",
        "!pip install pymongo\n",
        "\n",
        "from pymongo.mongo_client import MongoClient\n",
        "from pymongo.server_api import ServerApi"
      ],
      "metadata": {
        "colab": {
          "base_uri": "https://localhost:8080/"
        },
        "id": "Ig3zmD6SSagg",
        "outputId": "bc97edd1-7bbb-4107-99ff-7b2e389596bb"
      },
      "execution_count": null,
      "outputs": [
        {
          "output_type": "stream",
          "name": "stdout",
          "text": [
            "Collecting pymongo\n",
            "  Downloading pymongo-4.6.2-cp310-cp310-manylinux_2_17_x86_64.manylinux2014_x86_64.whl (677 kB)\n",
            "\u001b[2K     \u001b[90m━━━━━━━━━━━━━━━━━━━━━━━━━━━━━━━━━━━━━━━━\u001b[0m \u001b[32m677.2/677.2 kB\u001b[0m \u001b[31m4.3 MB/s\u001b[0m eta \u001b[36m0:00:00\u001b[0m\n",
            "\u001b[?25hCollecting dnspython<3.0.0,>=1.16.0 (from pymongo)\n",
            "  Downloading dnspython-2.6.1-py3-none-any.whl (307 kB)\n",
            "\u001b[2K     \u001b[90m━━━━━━━━━━━━━━━━━━━━━━━━━━━━━━━━━━━━━━━━\u001b[0m \u001b[32m307.7/307.7 kB\u001b[0m \u001b[31m6.6 MB/s\u001b[0m eta \u001b[36m0:00:00\u001b[0m\n",
            "\u001b[?25hInstalling collected packages: dnspython, pymongo\n",
            "Successfully installed dnspython-2.6.1 pymongo-4.6.2\n"
          ]
        }
      ]
    },
    {
      "cell_type": "code",
      "source": [
        "# Download us-counties.csv\n",
        "!curl -L \"https://raw.githubusercontent.com/nytimes/covid-19-data/master/us-counties.csv\" > us-counties.csv"
      ],
      "metadata": {
        "colab": {
          "base_uri": "https://localhost:8080/"
        },
        "id": "EQuQxNabWof_",
        "outputId": "e5ad27d4-5259-4d63-b006-37d329a3f0a3"
      },
      "execution_count": null,
      "outputs": [
        {
          "output_type": "stream",
          "name": "stdout",
          "text": [
            "  % Total    % Received % Xferd  Average Speed   Time    Time     Time  Current\n",
            "                                 Dload  Upload   Total   Spent    Left  Speed\n",
            "100 99.9M  100 99.9M    0     0  15.5M      0  0:00:06  0:00:06 --:--:-- 23.8M\n"
          ]
        }
      ]
    },
    {
      "cell_type": "code",
      "source": [
        "# Connect to MongoDB Atlas (insert your own credentials)\n",
        "# Replace the placeholder with your Atlas connection string\n",
        "uri = \"<put your connection string here>\"\n",
        "\n",
        "# Set the Stable API version when creating a new client\n",
        "client = MongoClient(uri, server_api=ServerApi('1'))\n",
        "\n",
        "# Send a ping to confirm a successful connection\n",
        "try:\n",
        "    client.admin.command('ping')\n",
        "    print(\"Pinged your deployment. You successfully connected to MongoDB!\")\n",
        "except Exception as e:\n",
        "    print(e)"
      ],
      "metadata": {
        "colab": {
          "base_uri": "https://localhost:8080/"
        },
        "id": "ZOPjAoP3UubV",
        "outputId": "988ec92a-3b7c-4ce1-c977-c00e8ccd5dc1"
      },
      "execution_count": null,
      "outputs": [
        {
          "output_type": "stream",
          "name": "stdout",
          "text": [
            "Pinged your deployment. You successfully connected to MongoDB!\n"
          ]
        }
      ]
    },
    {
      "cell_type": "code",
      "source": [
        "# Create or get your DB\n",
        "db_name = \"CS452_Mongo_Covid\"\n",
        "db = client.get_database(db_name)"
      ],
      "metadata": {
        "id": "sZPvG-R-LmJg"
      },
      "execution_count": null,
      "outputs": []
    },
    {
      "cell_type": "markdown",
      "source": [
        "Spark SQL Rewrite in MongoDB 1-6\n",
        "\n",
        "*Redo the SparkSQL assignment in MongoDB using the aggregation pipeline.*"
      ],
      "metadata": {
        "id": "p4r0EFhN2_RD"
      }
    },
    {
      "cell_type": "code",
      "source": [
        "# 1. Write code to define the schema and then read in the dataset\n",
        "#    (took me 17 minutes!!!)\n",
        "\n",
        "import json\n",
        "import csv\n",
        "\n",
        "with open(\"./us-counties.csv\") as f:\n",
        "  dataRows = csv.DictReader(f)\n",
        "  # YOUR CODE HERE (insert one in a loop or insert many? drop first?)\n",
        "  db.covidcounties.insert_many(dataRows)"
      ],
      "metadata": {
        "id": "g0DHgU4KQzZL"
      },
      "execution_count": null,
      "outputs": []
    },
    {
      "cell_type": "code",
      "source": [
        "# 2. Write code to find the county with the most deaths"
      ],
      "metadata": {
        "id": "tHnjfAg02ujD"
      },
      "execution_count": null,
      "outputs": []
    },
    {
      "cell_type": "code",
      "source": [
        "# 3. Write code to find the county with the most cases"
      ],
      "metadata": {
        "id": "pSM5tYVB2uWK"
      },
      "execution_count": null,
      "outputs": []
    },
    {
      "cell_type": "code",
      "source": [
        "# 4. Write code to find the total number of deaths in Utah county"
      ],
      "metadata": {
        "id": "yGJAaEsp2ty7"
      },
      "execution_count": null,
      "outputs": []
    },
    {
      "cell_type": "code",
      "source": [
        "# 5. Write code to find the death rate for each state and sort the states by death rate descending"
      ],
      "metadata": {
        "id": "VHyhfHEY2sIq"
      },
      "execution_count": null,
      "outputs": []
    },
    {
      "cell_type": "code",
      "source": [
        "# 6. Write code to something else interesting with this data – your choice"
      ],
      "metadata": {
        "id": "q3LZEI6VcYKX"
      },
      "execution_count": null,
      "outputs": []
    },
    {
      "cell_type": "markdown",
      "source": [
        "In this next part we will get experience using pipelines and lookups to join collections in MongoDb. Specifically we'll join to our **cases/deaths data** with **[vaccination data](https://ourworldindata.org/us-states-vaccinations#what-share-of-the-population-has-completed-the-initial-vaccination-protocol)** and **[total population data](https://www2.census.gov/programs-surveys/popest/datasets/2010-2019/counties/totals/co-est2019-alldata.csv)**.\n",
        "\n"
      ],
      "metadata": {
        "id": "LjCcRMMn3FDE"
      }
    },
    {
      "cell_type": "code",
      "source": [
        "# Get the CSV for covid vaccination data\n",
        "!curl -L \"https://raw.githubusercontent.com/owid/covid-19-data/master/public/data/vaccinations/us_state_vaccinations.csv\" > \"./us_state_vaccinations.csv\""
      ],
      "metadata": {
        "colab": {
          "base_uri": "https://localhost:8080/"
        },
        "id": "f2gJVpv_3qHS",
        "outputId": "152f78b8-8ebb-4168-edbe-bd9be1f625bd"
      },
      "execution_count": null,
      "outputs": [
        {
          "output_type": "stream",
          "name": "stdout",
          "text": [
            "  % Total    % Received % Xferd  Average Speed   Time    Time     Time  Current\n",
            "                                 Dload  Upload   Total   Spent    Left  Speed\n",
            "100 4804k  100 4804k    0     0  5570k      0 --:--:-- --:--:-- --:--:-- 5567k\n"
          ]
        }
      ]
    },
    {
      "cell_type": "code",
      "source": [
        "# Put the vaccinations data into the the DB  (took me 37 seconds)\n",
        "with open(\"./us_state_vaccinations.csv\") as f:\n",
        "  dataRows = csv.DictReader(f)\n",
        "  db.vaccinations.insert_many(dataRows)\n",
        "\n"
      ],
      "metadata": {
        "id": "1O16slNh-QAp"
      },
      "execution_count": null,
      "outputs": []
    },
    {
      "cell_type": "markdown",
      "source": [
        "Use the \\$lookup stage of the aggregation pipeline to join the vaccination and cases/deaths collections (you will need to group the covid case data by state) and use the \\$out stage to create a new joined collection."
      ],
      "metadata": {
        "id": "FHyQnR7mBvU4"
      }
    },
    {
      "cell_type": "code",
      "source": [
        "# Create a \"joined collection\" of data by state for cases, deaths, vaccinations counts\n",
        "\n",
        "# YOUR CODE HERE\n",
        "\n",
        "\n"
      ],
      "metadata": {
        "id": "enAirkIq-H0i"
      },
      "execution_count": null,
      "outputs": []
    },
    {
      "cell_type": "code",
      "source": [
        "# Get the total population (Use POPESTIMATE2019)\n",
        "!curl -L \"https://www2.census.gov/programs-surveys/popest/datasets/2010-2019/counties/totals/co-est2019-alldata.csv\" > \"./co-est2019-alldata.csv\""
      ],
      "metadata": {
        "colab": {
          "base_uri": "https://localhost:8080/"
        },
        "id": "cPvOQie_6ZNE",
        "outputId": "b3d2ab3c-70b9-4212-9304-fd84ee4b83a4"
      },
      "execution_count": null,
      "outputs": [
        {
          "output_type": "stream",
          "name": "stdout",
          "text": [
            "  % Total    % Received % Xferd  Average Speed   Time    Time     Time  Current\n",
            "                                 Dload  Upload   Total   Spent    Left  Speed\n",
            "100 3559k    0 3559k    0     0  1427k      0 --:--:--  0:00:02 --:--:-- 1428k\n"
          ]
        }
      ]
    },
    {
      "cell_type": "code",
      "source": [
        "# Put population data into the DB (took me 10 seconds)\n",
        "with open(\"./co-est2019-alldata.csv\", encoding='latin-1') as f:\n",
        "  dataRows = csv.DictReader(f)\n",
        "  db.population.insert_many(dataRows)"
      ],
      "metadata": {
        "id": "KIY41-k2-qsK"
      },
      "execution_count": null,
      "outputs": []
    },
    {
      "cell_type": "markdown",
      "source": [
        "Now let's incorrectly assume that vaccinations remove a person from possibility of infection and death. So based on our incorrect assumption, subtract the number who completed the initial vaccination protocol from the population of the state (POPESTIMATE2019 field) and and calculate a case percent and death percent of the population that was not ever vaccinated. 🤔"
      ],
      "metadata": {
        "id": "m7fsEVkI9mJy"
      }
    },
    {
      "cell_type": "code",
      "source": [
        "# How will join the population data into this?\n",
        "\n"
      ],
      "metadata": {
        "id": "hvZD6WJ-DtIE"
      },
      "execution_count": null,
      "outputs": []
    },
    {
      "cell_type": "markdown",
      "source": [
        "R1 - Report the highest 10 states and the lowest 10 states ordered by deaths divided by cases. (without subtracting vaccinated - see #5 from the SparkSQL redo)\n",
        "\n",
        "*   Highest 10 states Deaths/Cases (death rate)\n",
        "*   Lowest 10 states Deaths/Cases (death rate)"
      ],
      "metadata": {
        "id": "uNRocr-GJLEZ"
      }
    },
    {
      "cell_type": "code",
      "source": [
        "# YOUR CODE HERE"
      ],
      "metadata": {
        "id": "uIEPZ5IDAjZC"
      },
      "execution_count": null,
      "outputs": []
    },
    {
      "cell_type": "markdown",
      "source": [
        "R2 - Report the highest 10 states and lowest 10 ordered by these new case and death percentages. (with subtracting vaccinated)\n",
        "\n",
        "*   Highest 10 states (cases / (population - vaccinated))\n",
        "*   Highest 10 states (deaths / (population - vaccinated))\n",
        "*   Lowest 10 states (cases / (population - vaccinated))\n",
        "*   Lowest 10 states (deaths / (population - vaccinated))"
      ],
      "metadata": {
        "id": "lJGIHJybJXeq"
      }
    },
    {
      "cell_type": "code",
      "source": [
        "# YOUR CODE HERE"
      ],
      "metadata": {
        "id": "3pDk7gzcAmbj"
      },
      "execution_count": null,
      "outputs": []
    }
  ]
}