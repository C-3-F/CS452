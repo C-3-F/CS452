{
  "nbformat": 4,
  "nbformat_minor": 0,
  "metadata": {
    "colab": {
      "provenance": []
    },
    "kernelspec": {
      "name": "python3",
      "display_name": "Python 3"
    },
    "language_info": {
      "name": "python"
    }
  },
  "cells": [
    {
      "cell_type": "code",
      "source": [
        "# This will tell you your current IP address from google colab\n",
        "!curl api.ipify.org"
      ],
      "metadata": {
        "id": "ZOcIc9uiBiBm"
      },
      "execution_count": null,
      "outputs": []
    },
    {
      "cell_type": "code",
      "source": [
        "# Install needed python packages\n",
        "!pip install pymongo\n",
        "\n",
        "from pymongo.mongo_client import MongoClient\n",
        "from pymongo.server_api import ServerApi"
      ],
      "metadata": {
        "id": "Ig3zmD6SSagg"
      },
      "execution_count": null,
      "outputs": []
    },
    {
      "cell_type": "code",
      "source": [
        "# Download us-counties.csv\n",
        "!curl -L \"https://raw.githubusercontent.com/nytimes/covid-19-data/master/us-counties.csv\" > us-counties.csv"
      ],
      "metadata": {
        "id": "EQuQxNabWof_"
      },
      "execution_count": null,
      "outputs": []
    },
    {
      "cell_type": "code",
      "source": [
        "# Connect to MongoDB Atlas (insert your own credentials)\n",
        "# Replace the placeholder with your Atlas connection string\n",
        "uri = \"<connection string>\" # <-- put your own connection string here!\n",
        "\n",
        "# Set the Stable API version when creating a new client\n",
        "client = MongoClient(uri, server_api=ServerApi('1'))\n",
        "\n",
        "# Send a ping to confirm a successful connection\n",
        "try:\n",
        "    client.admin.command('ping')\n",
        "    print(\"Pinged your deployment. You successfully connected to MongoDB!\")\n",
        "except Exception as e:\n",
        "    print(e)"
      ],
      "metadata": {
        "id": "ZOPjAoP3UubV"
      },
      "execution_count": null,
      "outputs": []
    },
    {
      "cell_type": "code",
      "source": [
        "# Create or get your DB\n",
        "db_name = \"CS452_Mongo_Covid\"\n",
        "db = client.get_database(db_name)"
      ],
      "metadata": {
        "id": "sZPvG-R-LmJg"
      },
      "execution_count": null,
      "outputs": []
    },
    {
      "cell_type": "markdown",
      "source": [
        "Spark SQL Rewrite in MongoDB 1-6\n",
        "\n",
        "*Redo the SparkSQL assignment in MongoDB using the aggregation pipeline.*"
      ],
      "metadata": {
        "id": "p4r0EFhN2_RD"
      }
    },
    {
      "cell_type": "code",
      "source": [
        "# 1. Write code to define the schema and then read in the dataset\n",
        "#    (took me 17 minutes!!!)\n",
        "\n",
        "import json\n",
        "import csv\n",
        "import pandas\n",
        "# Load the CSV file\n",
        "df = pandas.read_csv('./us-counties.csv')\n",
        "data = df.to_dict('records')\n",
        "db.casesdeaths.drop()\n",
        "db.casesdeaths.insert_many(data)\n",
        "print(\"done\")\n"
      ],
      "metadata": {
        "id": "g0DHgU4KQzZL"
      },
      "execution_count": null,
      "outputs": []
    },
    {
      "cell_type": "code",
      "source": [
        "# 2. Write code to find the county with the most deaths\n",
        "\n",
        "res = db.casesdeaths.find({},{\"_id\":0, \"state\":1, \"county\":1, \"deaths\":1}).sort({\"deaths\":-1}).limit(1)\n",
        "list(res)"
      ],
      "metadata": {
        "id": "tHnjfAg02ujD"
      },
      "execution_count": null,
      "outputs": []
    },
    {
      "cell_type": "code",
      "source": [
        "# 3. Write code to find the county with the most cases\n"
      ],
      "metadata": {
        "id": "pSM5tYVB2uWK"
      },
      "execution_count": null,
      "outputs": []
    },
    {
      "cell_type": "code",
      "source": [
        "# 4. Write code to find the total number of deaths in Utah county"
      ],
      "metadata": {
        "id": "yGJAaEsp2ty7"
      },
      "execution_count": null,
      "outputs": []
    },
    {
      "cell_type": "code",
      "source": [
        "# 5. Write code to find the death rate for each state and sort the states by death rate descending"
      ],
      "metadata": {
        "id": "VHyhfHEY2sIq"
      },
      "execution_count": null,
      "outputs": []
    },
    {
      "cell_type": "code",
      "source": [
        "# 6. Write code to something else interesting with this data – your choice"
      ],
      "metadata": {
        "id": "q3LZEI6VcYKX"
      },
      "execution_count": null,
      "outputs": []
    },
    {
      "cell_type": "markdown",
      "source": [
        "In this next part we will get experience using MongoDB's aggegregation pipeline's $lookup stage to join collections in MongoDb. Specifically we'll join to our **cases/deaths data** with **[vaccination data](https://ourworldindata.org/us-states-vaccinations#what-share-of-the-population-has-completed-the-initial-vaccination-protocol)** and **[total population data](https://www2.census.gov/programs-surveys/popest/datasets/2010-2019/counties/totals/co-est2019-alldata.csv)**.  First we need to download and ingest the data.\n",
        "\n"
      ],
      "metadata": {
        "id": "LjCcRMMn3FDE"
      }
    },
    {
      "cell_type": "code",
      "source": [
        "# Get the CSV for covid vaccination data\n",
        "!curl -L \"https://raw.githubusercontent.com/owid/covid-19-data/master/public/data/vaccinations/us_state_vaccinations.csv\" > \"./us_state_vaccinations.csv\""
      ],
      "metadata": {
        "id": "f2gJVpv_3qHS"
      },
      "execution_count": null,
      "outputs": []
    },
    {
      "cell_type": "code",
      "source": [
        "# Put the vaccinations data into the the DB  (took me 37 seconds)\n",
        "with open(\"./us_state_vaccinations.csv\") as f:\n",
        "  dataRows = csv.DictReader(f)\n",
        "  db.vaccinations.insert_many(dataRows)\n",
        "\n",
        "df = pandas.read_csv('./us_state_vaccinations.csv')\n",
        "data = df.to_dict('records')\n",
        "db.vaccinations.drop()\n",
        "db.vaccinations.insert_many(data)\n",
        "print(\"Done!\")\n"
      ],
      "metadata": {
        "id": "1O16slNh-QAp"
      },
      "execution_count": null,
      "outputs": []
    },
    {
      "cell_type": "markdown",
      "source": [
        "Use the \\$lookup stage of the aggregation pipeline to join the vaccination and cases/deaths collections (you will need to group the covid case data by state) and use the \\$out stage to create a new joined collection."
      ],
      "metadata": {
        "id": "FHyQnR7mBvU4"
      }
    },
    {
      "cell_type": "code",
      "source": [
        "# Create a \"joined collection\" of data by state for cases, deaths, vaccinations counts\n",
        "# The cases and deaths data has over 2 million rows. You'll need to summarize it to\n",
        "# states before you can successfully join it to the other dataset.\n",
        "\n",
        "# YOUR CODE HERE\n",
        "\n",
        "\n"
      ],
      "metadata": {
        "id": "enAirkIq-H0i"
      },
      "execution_count": null,
      "outputs": []
    },
    {
      "cell_type": "code",
      "source": [
        "# Get the total population (Use POPESTIMATE2019)\n",
        "!curl -L \"https://www2.census.gov/programs-surveys/popest/datasets/2010-2019/counties/totals/co-est2019-alldata.csv\" > \"./co-est2019-alldata.csv\""
      ],
      "metadata": {
        "id": "cPvOQie_6ZNE"
      },
      "execution_count": null,
      "outputs": []
    },
    {
      "cell_type": "code",
      "source": [
        "# Put population data into the DB (took me 10 seconds)\n",
        "# with open(\"./co-est2019-alldata.csv\", encoding='latin-1') as f:\n",
        "#   dataRows = csv.DictReader(f)\n",
        "#   db.population.insert_many(dataRows)\n",
        "\n",
        "df = pandas.read_csv('./co-est2019-alldata.csv', encoding='latin-1')\n",
        "data = df.to_dict('records')\n",
        "db.populations.drop()\n",
        "db.populations.insert_many(data)\n",
        "print(\"Done!\")"
      ],
      "metadata": {
        "id": "KIY41-k2-qsK"
      },
      "execution_count": null,
      "outputs": []
    },
    {
      "cell_type": "markdown",
      "source": [
        "Now let's incorrectly assume that vaccinations remove a person from possibility of infection and death. So based on our incorrect assumption, subtract the number who completed the initial vaccination protocol from the population of the state (POPESTIMATE2019 field) and and calculate a case percent and death percent of the population that was not ever vaccinated. 🤔"
      ],
      "metadata": {
        "id": "m7fsEVkI9mJy"
      }
    },
    {
      "cell_type": "code",
      "source": [
        "# How will join the population data into this?\n",
        "\n"
      ],
      "metadata": {
        "id": "hvZD6WJ-DtIE"
      },
      "execution_count": null,
      "outputs": []
    },
    {
      "cell_type": "markdown",
      "source": [
        "R1 - Report the highest 10 states and the lowest 10 states ordered by deaths divided by cases. (without subtracting vaccinated - see #5 from the SparkSQL redo)"
      ],
      "metadata": {
        "id": "uNRocr-GJLEZ"
      }
    },
    {
      "cell_type": "code",
      "source": [
        "# Highest 10 states Deaths/Cases (death rate)\n"
      ],
      "metadata": {
        "id": "uIEPZ5IDAjZC"
      },
      "execution_count": null,
      "outputs": []
    },
    {
      "cell_type": "code",
      "source": [
        "# Lowest 10 states Deaths/Cases (death rate)\n"
      ],
      "metadata": {
        "id": "UiC3bplkQqZK"
      },
      "execution_count": null,
      "outputs": []
    },
    {
      "cell_type": "markdown",
      "source": [
        "R2 - Report the highest 10 states and lowest 10 ordered by these new case and death percentages. (with subtracting vaccinated)"
      ],
      "metadata": {
        "id": "lJGIHJybJXeq"
      }
    },
    {
      "cell_type": "code",
      "source": [
        "# Highest 10 states (cases / (population - vaccinated))"
      ],
      "metadata": {
        "id": "3pDk7gzcAmbj"
      },
      "execution_count": null,
      "outputs": []
    },
    {
      "cell_type": "code",
      "source": [
        "# Lowest 10 states (cases / (population - vaccinated))"
      ],
      "metadata": {
        "id": "Iz1W2YH4QyRU"
      },
      "execution_count": null,
      "outputs": []
    },
    {
      "cell_type": "code",
      "source": [
        "# Highest 10 states (deaths / (population - vaccinated))"
      ],
      "metadata": {
        "id": "l0g4M3qSQz47"
      },
      "execution_count": null,
      "outputs": []
    },
    {
      "cell_type": "code",
      "source": [
        "# Lowest 10 states (deaths / (population - vaccinated))"
      ],
      "metadata": {
        "id": "3JdThDJmQ8ea"
      },
      "execution_count": null,
      "outputs": []
    }
  ]
}