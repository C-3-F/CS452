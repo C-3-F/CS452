{
  "nbformat": 4,
  "nbformat_minor": 0,
  "metadata": {
    "colab": {
      "provenance": []
    },
    "kernelspec": {
      "name": "python3",
      "display_name": "Python 3"
    },
    "language_info": {
      "name": "python"
    }
  },
  "cells": [
    {
      "cell_type": "code",
      "source": [
        "!pip3 install neo4j-driver"
      ],
      "metadata": {
        "id": "OYND22DozMGN"
      },
      "execution_count": null,
      "outputs": []
    },
    {
      "cell_type": "code",
      "source": [
        "from neo4j import GraphDatabase, basic_auth\n",
        "import pandas as pd\n",
        "from tqdm import tqdm\n",
        "import ast\n",
        "import time\n",
        "import matplotlib.pyplot as plt"
      ],
      "metadata": {
        "id": "OZzpwSkAzIzi"
      },
      "execution_count": 34,
      "outputs": []
    },
    {
      "cell_type": "markdown",
      "source": [
        "<h1>Go to <a href=\"https://sandbox.neo4j.com/\">neo4j Sandbox<a><h1>  \n",
        "\n",
        "-Create an account and start a Sandbox instance, select the \"Movies\" option.\n",
        "\n",
        "-Click the little black arrow on the far right of the Sandbox instance, the click the \"Connection details\" tab.\n",
        "\n",
        "-Copy the Bolt URL, username, and password to the variables below"
      ],
      "metadata": {
        "id": "O08Fs6gDFmKR"
      }
    },
    {
      "cell_type": "code",
      "source": [
        "uri = \"<PUT THE BOLT URL HERE>\"\n",
        "user = \"<PUT THE USERNAME HERE>\"\n",
        "pwd = \"<PUT THE PASSWORD HERE>\"\n",
        "\n",
        "if uri == \"<PUT THE BOLT URL HERE>\":\n",
        "     raise ValueError('PLEASE CHANGE THE VALUES SO YOU CAN CONNECT TO THE DATABASE!')\n",
        ""
      ],
      "metadata": {
        "id": "N8pddO09Fk6D"
      },
      "execution_count": null,
      "outputs": []
    },
    {
      "cell_type": "code",
      "source": [
        "# this creates the connection to the database, and\n",
        "# has a function to run a query on the database\n",
        "class Neo4jConnection:\n",
        "\n",
        "    def __init__(self, uri, user, pwd):\n",
        "        self.__uri = uri\n",
        "        self.__user = user\n",
        "        self.__pwd = pwd\n",
        "        self.__driver = None\n",
        "        try:\n",
        "            self.__driver = GraphDatabase.driver(self.__uri, auth=(self.__user, self.__pwd))\n",
        "        except Exception as e:\n",
        "            print(\"Failed to create the driver:\", e)\n",
        "\n",
        "    def close(self):\n",
        "        if self.__driver is not None:\n",
        "            self.__driver.close()\n",
        "\n",
        "    def query(self, query, parameters=None, db=None):\n",
        "        assert self.__driver is not None, \"Driver not initialized!\"\n",
        "        session = None\n",
        "        response = None\n",
        "        try:\n",
        "            session = self.__driver.session(database=db) if db is not None else self.__driver.session()\n",
        "            response = list(session.run(query, parameters))\n",
        "        except Exception as e:\n",
        "            print(\"Query failed:\", e)\n",
        "        finally:\n",
        "            if session is not None:\n",
        "                session.close()\n",
        "        return response\n",
        "\n",
        "conn = Neo4jConnection(uri=uri,\n",
        "                       user=user,\n",
        "                       pwd=pwd)"
      ],
      "metadata": {
        "id": "M3EmuXzZ0Jbt"
      },
      "execution_count": 27,
      "outputs": []
    },
    {
      "cell_type": "code",
      "source": [
        "# test query to make sure the movies data is loaded in and the connection works with querying\n",
        "\n",
        "query_string = '''\n",
        "MATCH (keanu:Person {name: \"Keanu Reeves\"})-[:ACTED_IN]->(keanuMovies) RETURN keanuMovies.title AS title, keanuMovies.released AS year\n",
        "'''\n",
        "\n",
        "query_df = pd.DataFrame([dict(_) for _ in conn.query(query_string)])\n",
        "print(query_df)"
      ],
      "metadata": {
        "id": "2hPVQvksPQM8"
      },
      "execution_count": null,
      "outputs": []
    },
    {
      "cell_type": "markdown",
      "source": [
        "<h1>Go back to the neo4j Sandbox website and click the blue \"Open\" button<h1>  \n",
        "\n",
        "-A connection form should pop up, if not type \":server connect\" into the command line.\n",
        "\n",
        "-Click the \"Authentication type\" drop down menu, and select \"Username/Password\"  \n",
        "\n",
        "-Put the same password in from the Sandbox \"Connection details\" screen that we used to connect here in colab, and then run the command."
      ],
      "metadata": {
        "id": "uS6cyslwRh3L"
      }
    },
    {
      "cell_type": "markdown",
      "source": [
        "<h1>Type \":play movies\" into the command line and go through the tutorial<h1>  \n",
        "\n",
        "-Skip the \"Create\" step on slide 2, the movie data should already be loaded into the database  \n",
        "\n",
        "-Find the Bacon path for Nora Ephron and take a screenshot"
      ],
      "metadata": {
        "id": "4YLafpC-TP2S"
      }
    },
    {
      "cell_type": "markdown",
      "source": [
        "<h1>Download the \"metadata.csv\" file on the Canvas page for this assignment and load it into colab<h1>  \n",
        "\n",
        "-Make sure it downloads all the way before trying to read it into the dataframe.  "
      ],
      "metadata": {
        "id": "e46iRMZSlJQc"
      }
    },
    {
      "cell_type": "code",
      "source": [
        "# this reads the data in from a csv file\n",
        "df = pd.read_csv(\"metadata.csv\")"
      ],
      "metadata": {
        "id": "NKkeiN8N09_R"
      },
      "execution_count": 57,
      "outputs": []
    },
    {
      "cell_type": "code",
      "source": [
        "# cleaning the data\n",
        "\n",
        "def get_author_list(line):\n",
        "    # Cleans author dataframe column, creating a list of authors in the row.\n",
        "    line = ast.literal_eval(line)\n",
        "    return [e[1] + ' ' + e[0] for e in line]\n",
        "\n",
        "\n",
        "def get_category_list(line):\n",
        "    # Cleans category dataframe column, creating a list of categories in the row.\n",
        "    return list(line.split(\" \"))\n",
        "\n",
        "\n",
        "df['cleaned_authors_list'] = df['authors_parsed'].map(get_author_list)\n",
        "df['category_list'] = df['categories'].map(get_category_list)\n",
        "df = df.drop(['Unnamed: 0', 'submitter', 'authors',\n",
        "             'comments', 'journal-ref',\n",
        "             'doi', 'report-no', 'license',\n",
        "             'versions', 'update_date',\n",
        "             'abstract', 'authors_parsed',\n",
        "             'categories'], axis=1)"
      ],
      "metadata": {
        "id": "Y_ioQEYz4bR_"
      },
      "execution_count": 58,
      "outputs": []
    },
    {
      "cell_type": "code",
      "source": [
        "df.head()"
      ],
      "metadata": {
        "id": "gok2d-rLB9tK"
      },
      "execution_count": null,
      "outputs": []
    },
    {
      "cell_type": "code",
      "source": [
        "# Create some constraints to ensure the nodes aren't duplicates\n",
        "conn.query('CREATE CONSTRAINT papers IF NOT EXISTS FOR (p:Paper) REQUIRE p.id IS UNIQUE')\n",
        "conn.query('CREATE CONSTRAINT authors IF NOT EXISTS FOR (a:Author) REQUIRE a.name IS UNIQUE')\n",
        "conn.query('CREATE CONSTRAINT categories IF NOT EXISTS FOR (c:Category) REQUIRE c.category IS UNIQUE')"
      ],
      "metadata": {
        "colab": {
          "base_uri": "https://localhost:8080/"
        },
        "id": "MQzilL3LCE8H",
        "outputId": "805809c5-4705-454d-8f77-7860eb62b33d"
      },
      "execution_count": 60,
      "outputs": [
        {
          "output_type": "execute_result",
          "data": {
            "text/plain": [
              "[]"
            ]
          },
          "metadata": {},
          "execution_count": 60
        }
      ]
    },
    {
      "cell_type": "code",
      "source": [
        "# inserting the nodes into the database\n",
        "\n",
        "def add_categories(categories):\n",
        "    # Adds category nodes to the Neo4j graph.\n",
        "    query = '''\n",
        "            UNWIND $rows AS row\n",
        "            MERGE (c:Category {category: row.category})\n",
        "            RETURN count(*) as total\n",
        "            '''\n",
        "    return conn.query(query, parameters = {'rows':categories.to_dict('records')})\n",
        "\n",
        "\n",
        "def add_authors(rows, batch_size=10000):\n",
        "    # Adds author nodes to the Neo4j graph as a batch job.\n",
        "    query = '''\n",
        "            UNWIND $rows AS row\n",
        "            MERGE (:Author {name: row.author})\n",
        "            RETURN count(*) as total\n",
        "            '''\n",
        "    return insert_data(query, rows, batch_size)\n",
        "\n",
        "\n",
        "def insert_data(query, rows, batch_size = 10000):\n",
        "    # Function to handle the updating the Neo4j database in batch mode.\n",
        "\n",
        "    total = 0\n",
        "    batch = 0\n",
        "    start = time.time()\n",
        "    result = None\n",
        "\n",
        "    while batch * batch_size < len(rows):\n",
        "\n",
        "        res = conn.query(query,\n",
        "                         parameters = {'rows': rows[batch*batch_size:(batch+1)*batch_size].to_dict('records')})\n",
        "        total += res[0]['total']\n",
        "        batch += 1\n",
        "        result = {\"total\":total,\n",
        "                  \"batches\":batch,\n",
        "                  \"time\":time.time()-start}\n",
        "        print(result)\n",
        "\n",
        "    return result"
      ],
      "metadata": {
        "id": "rLtcB5AcCW0F"
      },
      "execution_count": 61,
      "outputs": []
    },
    {
      "cell_type": "code",
      "source": [
        "# inserts the papers and creates all the connections between the nodes\n",
        "\n",
        "def add_papers(rows, batch_size=5000):\n",
        "   # Adds paper nodes and (:Author)--(:Paper) and\n",
        "   # (:Paper)--(:Category) relationships to the Neo4j graph as a\n",
        "   # batch job.\n",
        "\n",
        "   query = '''\n",
        "   UNWIND $rows as row\n",
        "   MERGE (p:Paper {id:row.id}) ON CREATE SET p.title = row.title\n",
        "\n",
        "   // connect categories\n",
        "   WITH row, p\n",
        "   UNWIND row.category_list AS category_name\n",
        "   MATCH (c:Category {category: category_name})\n",
        "   MERGE (p)-[:IN_CATEGORY]->(c)\n",
        "\n",
        "   // connect authors\n",
        "   WITH distinct row, p // reduce cardinality\n",
        "   UNWIND row.cleaned_authors_list AS author\n",
        "   MATCH (a:Author {name: author})\n",
        "   MERGE (a)-[:AUTHORED]->(p)\n",
        "   RETURN count(distinct p) as total\n",
        "   '''\n",
        "\n",
        "   return insert_data(query, rows, batch_size)"
      ],
      "metadata": {
        "id": "83I5W6yqCkOL"
      },
      "execution_count": 62,
      "outputs": []
    },
    {
      "cell_type": "code",
      "source": [
        "# inserts the data in batches\n",
        "\n",
        "categories = pd.DataFrame(df[['category_list']])\n",
        "categories.rename(columns={'category_list':'category'},\n",
        "                  inplace=True)\n",
        "categories = categories.explode('category') \\\n",
        "                       .drop_duplicates(subset=['category'])\n",
        "\n",
        "authors = pd.DataFrame(df[['cleaned_authors_list']])\n",
        "authors.rename(columns={'cleaned_authors_list':'author'},\n",
        "               inplace=True)\n",
        "authors=authors.explode('author').drop_duplicates(subset=['author'])\n",
        "\n",
        "add_categories(categories)\n",
        "add_authors(authors)\n",
        "add_papers(df)"
      ],
      "metadata": {
        "id": "yfxbnsCICpsh"
      },
      "execution_count": null,
      "outputs": []
    },
    {
      "cell_type": "code",
      "source": [
        "query_string = '''\n",
        "<PUT YOUR QUERY HERE>\n",
        "'''\n",
        "\n",
        "query_df = pd.DataFrame([dict(_) for _ in conn.query(query_string)])\n",
        "query_df.head()"
      ],
      "metadata": {
        "id": "-HAZrM8hD2Xk"
      },
      "execution_count": null,
      "outputs": []
    }
  ]
}