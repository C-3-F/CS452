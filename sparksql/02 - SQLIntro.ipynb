{
 "cells": [
  {
   "cell_type": "code",
   "execution_count": null,
   "metadata": {},
   "outputs": [],
   "source": [
    "# Setup Spark SQL\n",
    "# Note if running locally you need the JVM https://www.oracle.com/java/technologies/downloads/ \n",
    "# Consider running in https://colab.research.google.com/\n",
    "%pip install pyspark"
   ]
  },
  {
   "cell_type": "code",
   "execution_count": null,
   "metadata": {},
   "outputs": [],
   "source": [
    "from pyspark.sql import SparkSession\n",
    "from pyspark.sql import Row\n",
    "\n",
    "spark = SparkSession.builder.appName(\"SQLIntro\").getOrCreate()\n",
    "sc = spark.sparkContext\n",
    "sc.setLogLevel('WARN')\n"
   ]
  },
  {
   "cell_type": "code",
   "execution_count": null,
   "metadata": {},
   "outputs": [],
   "source": [
    "# Download Guteburg Book of Mormon and Bible\n",
    "!curl -L https://ia601205.us.archive.org/18/items/thebookofmormon00017gut/mormon13.txt > bookOfMormon.txt\n",
    "!curl -L https://www.gutenberg.org/cache/epub/10/pg10.txt > bible.txt"
   ]
  },
  {
   "cell_type": "code",
   "execution_count": null,
   "metadata": {},
   "outputs": [],
   "source": [
    "def putBookIntoWordsTable(bookFileTxt, tableName):\n",
    "    import re\n",
    "    lines = sc.textFile(bookFileTxt)\n",
    "    linesLower = lines.map(lambda line: line.lower())\n",
    "    words = linesLower.flatMap(lambda lowerLine: re.split('[^a-z]', lowerLine))\n",
    "    asRows = words.map(lambda w: Row(word=w))\n",
    "    asDF = asRows.toDF()\n",
    "    asDF.createOrReplaceTempView(tableName)\n",
    "\n",
    "putBookIntoWordsTable(\"bookOfMormon.txt\", \"bookOfMormon\")\n",
    "putBookIntoWordsTable(\"bible.txt\", \"bible\")"
   ]
  },
  {
   "cell_type": "code",
   "execution_count": null,
   "metadata": {},
   "outputs": [],
   "source": [
    "bookOfMormonOnlyWords = spark.sql(\"\"\"\n",
    "                \n",
    "                with uniqueToBookOfMormon as (\n",
    "                    select * from bookOfMormon except select * from bible\n",
    "                )\n",
    "                select word, count(*) as counts from \n",
    "                bookOfMormon\n",
    "                where word in (select word from uniqueToBookOfMormon)\n",
    "                group by word\n",
    "                order by counts desc\n",
    "                \n",
    "                \"\"\")\n",
    "\n",
    "bookOfMormonOnlyWords.rdd.map(lambda row: (row.word, row.counts)).take(100)\n"
   ]
  },
  {
   "cell_type": "code",
   "execution_count": null,
   "metadata": {},
   "outputs": [],
   "source": [
    "bibleOnlyWords = spark.sql(\"\"\"\n",
    "                \n",
    "                with uniqueToBible as (\n",
    "                    select * from bible except select * from bookOfMormon\n",
    "                )\n",
    "                select word, count(*) as counts from \n",
    "                bible\n",
    "                where word in (select word from uniqueToBible)\n",
    "                group by word\n",
    "                order by counts desc\n",
    "                \n",
    "                \"\"\")\n",
    "\n",
    "bibleOnlyWords.rdd.map(lambda row: (row.word, row.counts)).take(100)\n"
   ]
  }
 ],
 "metadata": {
  "kernelspec": {
   "display_name": "Python 3",
   "language": "python",
   "name": "python3"
  },
  "language_info": {
   "codemirror_mode": {
    "name": "ipython",
    "version": 3
   },
   "file_extension": ".py",
   "mimetype": "text/x-python",
   "name": "python",
   "nbconvert_exporter": "python",
   "pygments_lexer": "ipython3",
   "version": "3.11.3"
  }
 },
 "nbformat": 4,
 "nbformat_minor": 2
}
