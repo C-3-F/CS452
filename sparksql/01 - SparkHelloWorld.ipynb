{
 "cells": [
  {
   "cell_type": "code",
   "execution_count": null,
   "metadata": {},
   "outputs": [],
   "source": [
    "# Setup Spark SQL\n",
    "# Note if running locally you need the JVM https://www.oracle.com/java/technologies/downloads/ \n",
    "# Consider running in https://colab.research.google.com/\n",
    "%pip install pyspark"
   ]
  },
  {
   "cell_type": "code",
   "execution_count": null,
   "metadata": {},
   "outputs": [],
   "source": [
    "from pyspark.sql import SparkSession\n",
    "import os\n",
    "import re\n",
    "from pyspark.sql import Row\n",
    "\n",
    "# Ensure JAVA_HOME is set correctly\n",
    "java_home = os.environ.get('JAVA_HOME')\n",
    "if not java_home:\n",
    "    raise EnvironmentError(\"JAVA_HOME environment variable is not set.\")\n",
    "\n",
    "# Configure Spark session\n",
    "spark = SparkSession.builder \\\n",
    "    .appName(\"MyApp\") \\\n",
    "    .master(\"local[*]\") \\\n",
    "    .config(\"spark.network.timeout\", \"600s\") \\\n",
    "    .config(\"spark.executor.heartbeatInterval\", \"60s\") \\\n",
    "    .config(\"spark.driver.memory\", \"2g\") \\\n",
    "    .config(\"spark.executor.memory\", \"2g\") \\\n",
    "    .getOrCreate()\n",
    "\n",
    "sc = spark.sparkContext\n",
    "sc.setLogLevel('DEBUG')"
   ]
  },
  {
   "cell_type": "code",
   "execution_count": null,
   "metadata": {},
   "outputs": [],
   "source": [
    "# Download the bible as txt\n",
    "!curl -L \"https://www.gutenberg.org/cache/epub/10/pg10.txt\" > bible.txt"
   ]
  },
  {
   "cell_type": "code",
   "execution_count": null,
   "metadata": {},
   "outputs": [],
   "source": [
    "# Use SparkSQL to list all the words in the bible with their counts sorted descending by count.\n",
    "# Turn in your code and sample of your results (at least top 20). \n",
    "# Be sure to ignore case and punctuation and eliminate the blank lines.\n",
    "def putBookIntoWordsTable(bookFileTxt, tableName):\n",
    "    lines = sc.textFile(bookFileTxt)\n",
    "    linesLower = lines.map(lambda line: line.lower())\n",
    "    words = linesLower.flatMap(lambda lowerLine: re.split('[^a-z]', lowerLine)).filter(lambda w: w != \"\")\n",
    "    \n",
    "    if words.isEmpty():\n",
    "        raise ValueError(\"The words RDD is empty.\")\n",
    "    \n",
    "    asRows = words.map(lambda w: Row(word=w))\n",
    "    asDF = asRows.toDF()\n",
    "    asDF.createOrReplaceTempView(tableName)\n",
    "\n",
    "# Validate file path\n",
    "bookFileTxt = \"bible.txt\"\n",
    "if not os.path.exists(bookFileTxt):\n",
    "    raise FileNotFoundError(f\"The file {bookFileTxt} does not exist.\")\n",
    "\n",
    "# Execute the function\n",
    "putBookIntoWordsTable(bookFileTxt, \"bible\")\n",
    "\n",
    "# Run SQL query\n",
    "result = spark.sql(\"SELECT word, COUNT(*) as count FROM bible WHERE word != '' GROUP BY word ORDER BY count DESC\").show(20)"
   ]
  },
  {
   "cell_type": "code",
   "execution_count": null,
   "metadata": {},
   "outputs": [],
   "source": [
    "# What to try something else? "
   ]
  }
 ],
 "metadata": {
  "kernelspec": {
   "display_name": "Python 3.10.9 64-bit",
   "language": "python",
   "name": "python3"
  },
  "language_info": {
   "codemirror_mode": {
    "name": "ipython",
    "version": 3
   },
   "file_extension": ".py",
   "mimetype": "text/x-python",
   "name": "python",
   "nbconvert_exporter": "python",
   "pygments_lexer": "ipython3",
   "version": "3.11.3"
  },
  "orig_nbformat": 4,
  "vscode": {
   "interpreter": {
    "hash": "b0fa6594d8f4cbf19f97940f81e996739fb7646882a419484c72d19e05852a7e"
   }
  }
 },
 "nbformat": 4,
 "nbformat_minor": 2
}
