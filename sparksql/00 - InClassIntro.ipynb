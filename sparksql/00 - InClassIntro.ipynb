{
 "cells": [
  {
   "cell_type": "code",
   "execution_count": 6,
   "metadata": {},
   "outputs": [
    {
     "name": "stdout",
     "output_type": "stream",
     "text": [
      "Requirement already satisfied: pyspark in c:\\users\\micha\\appdata\\local\\programs\\python\\python311\\lib\\site-packages (3.5.0)\n",
      "Requirement already satisfied: py4j==0.10.9.7 in c:\\users\\micha\\appdata\\local\\programs\\python\\python311\\lib\\site-packages (from pyspark) (0.10.9.7)\n"
     ]
    }
   ],
   "source": [
    "# Remember to install JDK (or use https://colab.google.com) <----<<<\n",
    "#   -  https://www.oracle.com/java/technologies/downloads/\n",
    "\n",
    "%pip install pyspark\n"
   ]
  },
  {
   "cell_type": "code",
   "execution_count": 6,
   "metadata": {},
   "outputs": [],
   "source": [
    "import pyspark\n",
    "from pyspark.sql import SparkSession\n",
    "\n",
    "spark = SparkSession.builder \\\n",
    "    .appName(\"HelloWorld\") \\\n",
    "    .getOrCreate()\n",
    "sc = spark.sparkContext\n",
    "sc.setLogLevel('WARN')"
   ]
  },
  {
   "cell_type": "code",
   "execution_count": 5,
   "metadata": {},
   "outputs": [
    {
     "name": "stdout",
     "output_type": "stream",
     "text": [
      "[1, 4, 9, 16]\n"
     ]
    }
   ],
   "source": [
    "nums = sc.parallelize([1,2,3,4])\n",
    "print(nums.map(lambda x: x*x).collect())"
   ]
  },
  {
   "cell_type": "code",
   "execution_count": 1,
   "metadata": {},
   "outputs": [
    {
     "name": "stderr",
     "output_type": "stream",
     "text": [
      "  % Total    % Received % Xferd  Average Speed   Time    Time     Time  Current\n",
      "                                 Dload  Upload   Total   Spent    Left  Speed\n",
      "\n",
      "  0     0    0     0    0     0      0      0 --:--:-- --:--:-- --:--:--     0\n",
      "  0     0    0     0    0     0      0      0 --:--:-- --:--:-- --:--:--     0\n",
      "100 1551k  100 1551k    0     0  2288k      0 --:--:-- --:--:-- --:--:-- 2292k\n"
     ]
    }
   ],
   "source": [
    "# Download the Book of Mormon as a text file from Gutenburg\n",
    "!curl -L https://ia601205.us.archive.org/18/items/thebookofmormon00017gut/mormon13.txt > bookOfMormon.txt"
   ]
  },
  {
   "cell_type": "code",
   "execution_count": 7,
   "metadata": {},
   "outputs": [
    {
     "data": {
      "text/plain": [
       "['zealously striving to repair all the injuries which they had done',\n",
       " 'zealous for keeping the commandments of God.',\n",
       " 'youth, and ye stand in need to be nourished by your brothers. ',\n",
       " 'yourselves?',\n",
       " 'yourselves, that ye may have hope as well as your brethren from',\n",
       " 'yourselves, that ye have been sufficiently humble?  That your',\n",
       " 'yourselves, and your thoughts, and your words, and your deeds,',\n",
       " 'yourselves wrath against the day of judgment.',\n",
       " 'yourselves unto him that he may have power over you, to blind',\n",
       " 'yourselves treasures in heaven, where nothing doth corrupt, and']"
      ]
     },
     "execution_count": 7,
     "metadata": {},
     "output_type": "execute_result"
    }
   ],
   "source": [
    "# Read all the lines of the text file (textFile auto does parallelization)\n",
    "lines = sc.textFile(\"bookOfMormon.txt\")\n",
    "\n",
    "lines.top(10)"
   ]
  },
  {
   "cell_type": "code",
   "execution_count": 8,
   "metadata": {},
   "outputs": [
    {
     "data": {
      "text/plain": [
       "40116"
      ]
     },
     "execution_count": 8,
     "metadata": {},
     "output_type": "execute_result"
    }
   ],
   "source": [
    "# Count how many lines there are\n",
    "lines.count()"
   ]
  },
  {
   "cell_type": "code",
   "execution_count": 9,
   "metadata": {},
   "outputs": [
    {
     "data": {
      "text/plain": [
       "7651"
      ]
     },
     "execution_count": 9,
     "metadata": {},
     "output_type": "execute_result"
    }
   ],
   "source": [
    "# Count how many duplicate lines?\n",
    "allCount = lines.count()\n",
    "distinctCount = lines.distinct().count()\n",
    "\n",
    "allCount - distinctCount"
   ]
  },
  {
   "cell_type": "code",
   "execution_count": 14,
   "metadata": {},
   "outputs": [
    {
     "data": {
      "text/plain": [
       "[('', 1),\n",
       " ('****This is the Project Gutenberg edition of Book of Mormon****', 1),\n",
       " ('This 13th edition should be labeled mormon13.txt or mormon13.zip', 1),\n",
       " ('***This edition is being officially released on March 8, 1992***', 1),\n",
       " ('', 1),\n",
       " ('[Date last updated: May 22, 2005]', 1),\n",
       " (' ', 1),\n",
       " ('Corrected EDITIONS of our etexts get a new NUMBER, xxxxx11.txt.', 1),\n",
       " ('VERSIONS based on separate sources get new LETTER, xxxxx10a.txt.', 1),\n",
       " ('', 1)]"
      ]
     },
     "execution_count": 14,
     "metadata": {},
     "output_type": "execute_result"
    }
   ],
   "source": [
    "# What are some of those duplicate lines?\n",
    "\n",
    "# start each line count at one, key = line (key, count)\n",
    "lineCounts = lines.map(lambda line: (line, 1)) \n",
    "\n",
    "lineCounts.take(10)"
   ]
  },
  {
   "cell_type": "code",
   "execution_count": 15,
   "metadata": {},
   "outputs": [
    {
     "data": {
      "text/plain": [
       "[('', 6937),\n",
       " ('****This is the Project Gutenberg edition of Book of Mormon****', 1),\n",
       " ('This 13th edition should be labeled mormon13.txt or mormon13.zip', 1),\n",
       " ('[Date last updated: May 22, 2005]', 1),\n",
       " (' ', 2),\n",
       " ('Corrected EDITIONS of our etexts get a new NUMBER, xxxxx11.txt.', 1),\n",
       " ('to get any etext selected, entered, proofread, edited, copyright', 1),\n",
       " ('projected audience is one hundred million readers.  If our value', 1),\n",
       " ('The Goal of Project Gutenberg is to Give Away One Trillion Etext', 1),\n",
       " ('Files by the December 31, 2001.  [10,000 x 100,000,000=Trillion]', 1)]"
      ]
     },
     "execution_count": 15,
     "metadata": {},
     "output_type": "execute_result"
    }
   ],
   "source": [
    "# reduce by key in a parrellel way, matching up duplicate lines and summing their counts\n",
    "lineCounts = lineCounts.reduceByKey(lambda lineCount1, lineCount2: lineCount1 + lineCount2) \n",
    "\n",
    "lineCounts.take(10)"
   ]
  },
  {
   "cell_type": "code",
   "execution_count": 22,
   "metadata": {},
   "outputs": [
    {
     "data": {
      "text/plain": [
       "[('', 6937),\n",
       " ('them.', 33),\n",
       " ('people.', 18),\n",
       " ('God.', 15),\n",
       " ('land.', 15),\n",
       " ('wilderness.', 14),\n",
       " ('saying:', 11),\n",
       " ('Chapter 2', 10),\n",
       " ('Chapter 3', 10),\n",
       " ('Chapter 4', 10),\n",
       " ('him.', 10),\n",
       " ('Israel.', 10),\n",
       " ('Chapter 1', 10),\n",
       " ('Chapter 5', 10),\n",
       " ('Chapter 6', 10),\n",
       " ('Chapter 7', 10),\n",
       " ('Chapter 8', 9),\n",
       " ('judges over the people of Nephi.', 9),\n",
       " ('Chapter 9', 9),\n",
       " ('Nephi.', 8)]"
      ]
     },
     "execution_count": 22,
     "metadata": {},
     "output_type": "execute_result"
    }
   ],
   "source": [
    "sortedLineCounts = lineCounts.sortBy(lambda t: t[1], False)\n",
    "sortedLineCounts.take(20)"
   ]
  },
  {
   "cell_type": "code",
   "execution_count": null,
   "metadata": {},
   "outputs": [],
   "source": [
    "# What would you you need to count all the words?"
   ]
  },
  {
   "cell_type": "code",
   "execution_count": 2,
   "metadata": {},
   "outputs": [
    {
     "data": {
      "text/plain": [
       "['What',\n",
       " 'is',\n",
       " 'this',\n",
       " '',\n",
       " '',\n",
       " '',\n",
       " '',\n",
       " 'A',\n",
       " 'Helicopter',\n",
       " '',\n",
       " '',\n",
       " '',\n",
       " '',\n",
       " 'A',\n",
       " 'plane',\n",
       " '',\n",
       " '',\n",
       " '',\n",
       " '',\n",
       " 'Super',\n",
       " 'hero']"
      ]
     },
     "execution_count": 2,
     "metadata": {},
     "output_type": "execute_result"
    }
   ],
   "source": [
    "# Python tip - \n",
    "import re\n",
    "line = \"What is this? 1. A Helicopter. 2. A plane. 3. Super hero\"\n",
    "re.split('[^a-zA-Z]', line)"
   ]
  },
  {
   "cell_type": "code",
   "execution_count": 4,
   "metadata": {},
   "outputs": [
    {
     "data": {
      "text/plain": [
       "'this had some uppercase letters'"
      ]
     },
     "execution_count": 4,
     "metadata": {},
     "output_type": "execute_result"
    }
   ],
   "source": [
    "# Python tip\n",
    "\"This Had somE uPPerCase LeTtErs\".lower()"
   ]
  },
  {
   "cell_type": "code",
   "execution_count": 10,
   "metadata": {},
   "outputs": [
    {
     "data": {
      "text/plain": [
       "['Hello', 'World!', 'Take', 'your', 'vitamins!', 'Get', 'enough', 'sleep!']"
      ]
     },
     "execution_count": 10,
     "metadata": {},
     "output_type": "execute_result"
    }
   ],
   "source": [
    "# SparkSQL tip!\n",
    "# Flat map  -- take rows of arrays and make each element in array a new row a\n",
    "\n",
    "sentences = sc.parallelize([\"Hello World!\", \"Take your vitamins!\", \"Get enough sleep!\"])\n",
    "words = sentences.flatMap(lambda sentence: sentence.split())\n",
    "words.take(20)"
   ]
  }
 ],
 "metadata": {
  "kernelspec": {
   "display_name": "Python 3.10.9 64-bit",
   "language": "python",
   "name": "python3"
  },
  "language_info": {
   "codemirror_mode": {
    "name": "ipython",
    "version": 3
   },
   "file_extension": ".py",
   "mimetype": "text/x-python",
   "name": "python",
   "nbconvert_exporter": "python",
   "pygments_lexer": "ipython3",
   "version": "3.11.3"
  },
  "orig_nbformat": 4,
  "vscode": {
   "interpreter": {
    "hash": "b0fa6594d8f4cbf19f97940f81e996739fb7646882a419484c72d19e05852a7e"
   }
  }
 },
 "nbformat": 4,
 "nbformat_minor": 2
}
