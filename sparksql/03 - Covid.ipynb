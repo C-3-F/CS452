{
  "cells": [
    {
      "cell_type": "code",
      "execution_count": 1,
      "metadata": {
        "colab": {
          "base_uri": "https://localhost:8080/"
        },
        "id": "OMD3mMbyYaO8",
        "outputId": "a6a94194-c4b0-4ceb-de62-448ed63ad093"
      },
      "outputs": [
        {
          "name": "stdout",
          "output_type": "stream",
          "text": [
            "Collecting pyspark\n",
            "  Downloading pyspark-3.5.1.tar.gz (317.0 MB)\n",
            "\u001b[2K     \u001b[90m━━━━━━━━━━━━━━━━━━━━━━━━━━━━━━━━━━━━━━━━\u001b[0m \u001b[32m317.0/317.0 MB\u001b[0m \u001b[31m2.7 MB/s\u001b[0m eta \u001b[36m0:00:00\u001b[0m\n",
            "\u001b[?25h  Preparing metadata (setup.py) ... \u001b[?25l\u001b[?25hdone\n",
            "Requirement already satisfied: py4j==0.10.9.7 in /usr/local/lib/python3.10/dist-packages (from pyspark) (0.10.9.7)\n",
            "Building wheels for collected packages: pyspark\n",
            "  Building wheel for pyspark (setup.py) ... \u001b[?25l\u001b[?25hdone\n",
            "  Created wheel for pyspark: filename=pyspark-3.5.1-py2.py3-none-any.whl size=317488491 sha256=3db24c917287e213703ab6528bd64dd822954509850e2adb93fd3c0a64bc0a05\n",
            "  Stored in directory: /root/.cache/pip/wheels/80/1d/60/2c256ed38dddce2fdd93be545214a63e02fbd8d74fb0b7f3a6\n",
            "Successfully built pyspark\n",
            "Installing collected packages: pyspark\n",
            "Successfully installed pyspark-3.5.1\n"
          ]
        }
      ],
      "source": [
        "# Setup Spark SQL\n",
        "# Note if running locally you need the JVM https://www.oracle.com/java/technologies/downloads/\n",
        "# Consider running in https://colab.research.google.com/\n",
        "%pip install pyspark"
      ]
    },
    {
      "cell_type": "code",
      "execution_count": 2,
      "metadata": {
        "id": "7UePKK8XYaO9"
      },
      "outputs": [],
      "source": [
        "# Initialize Context - this is where you'd setup information about your Hadoop cluster if you had one!\n",
        "from pyspark.sql import SparkSession\n",
        "\n",
        "\n",
        "spark = SparkSession.builder.appName(\"Covid\").getOrCreate()\n",
        "\n",
        "sc = spark.sparkContext\n",
        "\n",
        "sc.setLogLevel(\"WARN\")"
      ]
    },
    {
      "cell_type": "code",
      "execution_count": 3,
      "metadata": {
        "colab": {
          "base_uri": "https://localhost:8080/"
        },
        "id": "yGW9KKruYaO-",
        "outputId": "a64bd753-3b4e-4828-8809-dc40265402fc"
      },
      "outputs": [
        {
          "name": "stdout",
          "output_type": "stream",
          "text": [
            "  % Total    % Received % Xferd  Average Speed   Time    Time     Time  Current\n",
            "                                 Dload  Upload   Total   Spent    Left  Speed\n",
            "100 99.9M  100 99.9M    0     0   154M      0 --:--:-- --:--:-- --:--:--  154M\n"
          ]
        }
      ],
      "source": [
        "# Download 100mb covid county data file\n",
        "!curl \"https://raw.githubusercontent.com/nytimes/covid-19-data/master/us-counties.csv\" > ./uscounties.csv"
      ]
    },
    {
      "cell_type": "code",
      "execution_count": 4,
      "metadata": {
        "colab": {
          "base_uri": "https://localhost:8080/"
        },
        "id": "G9zys7bXYaO-",
        "outputId": "f66a20a2-0bff-4119-8fb2-93253c44a3b5"
      },
      "outputs": [
        {
          "name": "stdout",
          "output_type": "stream",
          "text": [
            "+----------+-----------+----------+-----+-----+------+\n",
            "|      date|     county|     state| fips|cases|deaths|\n",
            "+----------+-----------+----------+-----+-----+------+\n",
            "|2020-01-21|  Snohomish|Washington|53061|    1|     0|\n",
            "|2020-01-22|  Snohomish|Washington|53061|    1|     0|\n",
            "|2020-01-23|  Snohomish|Washington|53061|    1|     0|\n",
            "|2020-01-24|       Cook|  Illinois|17031|    1|     0|\n",
            "|2020-01-24|  Snohomish|Washington|53061|    1|     0|\n",
            "|2020-01-25|     Orange|California| 6059|    1|     0|\n",
            "|2020-01-25|       Cook|  Illinois|17031|    1|     0|\n",
            "|2020-01-25|  Snohomish|Washington|53061|    1|     0|\n",
            "|2020-01-26|   Maricopa|   Arizona| 4013|    1|     0|\n",
            "|2020-01-26|Los Angeles|California| 6037|    1|     0|\n",
            "|2020-01-26|     Orange|California| 6059|    1|     0|\n",
            "|2020-01-26|       Cook|  Illinois|17031|    1|     0|\n",
            "|2020-01-26|  Snohomish|Washington|53061|    1|     0|\n",
            "|2020-01-27|   Maricopa|   Arizona| 4013|    1|     0|\n",
            "|2020-01-27|Los Angeles|California| 6037|    1|     0|\n",
            "|2020-01-27|     Orange|California| 6059|    1|     0|\n",
            "|2020-01-27|       Cook|  Illinois|17031|    1|     0|\n",
            "|2020-01-27|  Snohomish|Washington|53061|    1|     0|\n",
            "|2020-01-28|   Maricopa|   Arizona| 4013|    1|     0|\n",
            "|2020-01-28|Los Angeles|California| 6037|    1|     0|\n",
            "+----------+-----------+----------+-----+-----+------+\n",
            "only showing top 20 rows\n",
            "\n"
          ]
        }
      ],
      "source": [
        "# Read the file into a Spark DataFrame\n",
        "usCountiesFilePath = \"./uscounties.csv\"\n",
        "\n",
        "df = spark.read.csv(usCountiesFilePath, inferSchema=True, header=True)\n",
        "\n",
        "df.show()"
      ]
    },
    {
      "cell_type": "code",
      "execution_count": 5,
      "metadata": {
        "colab": {
          "base_uri": "https://localhost:8080/"
        },
        "id": "uKtKWRI3YaO-",
        "outputId": "112f2d3f-2e04-407f-e60c-5a623828db48"
      },
      "outputs": [
        {
          "name": "stdout",
          "output_type": "stream",
          "text": [
            "Max deaths:\n",
            "+-------------+--------+------+\n",
            "|       county|   state|deaths|\n",
            "+-------------+--------+------+\n",
            "|New York City|New York| 40267|\n",
            "+-------------+--------+------+\n",
            "\n"
          ]
        }
      ],
      "source": [
        "# SparkSQL API\n",
        "df.createOrReplaceTempView(\"covid\")  # create table that you can do sql on\n",
        "\n",
        "print(\"Max deaths:\")\n",
        "spark.sql(\n",
        "    \"\"\"\n",
        "    select county, state, deaths\n",
        "    from covid\n",
        "    order by deaths desc\n",
        "    limit 1\n",
        "  \"\"\"\n",
        ").show()"
      ]
    },
    {
      "cell_type": "code",
      "execution_count": 6,
      "metadata": {
        "colab": {
          "base_uri": "https://localhost:8080/"
        },
        "id": "dpa1zR78YaO-",
        "outputId": "927d9807-1c4c-4e2f-9179-a4b27512cf12"
      },
      "outputs": [
        {
          "name": "stdout",
          "output_type": "stream",
          "text": [
            "Max deaths:\n",
            "[Row(date=datetime.date(2022, 5, 13), county='New York City', state='New York', fips=None, cases=2422658, deaths=40267)]\n"
          ]
        }
      ],
      "source": [
        "# DataFrame style\n",
        "from pyspark.sql.functions import col\n",
        "\n",
        "print(\"Max deaths:\")\n",
        "print(\n",
        "    df.orderBy(col(\"deaths\").desc()).take(  # .where(col(\"county\") == \"New York City\") \\\n",
        "        1\n",
        "    )\n",
        ")"
      ]
    },
    {
      "cell_type": "code",
      "execution_count": 7,
      "metadata": {
        "colab": {
          "base_uri": "https://localhost:8080/"
        },
        "id": "_qpJf34nYaO-",
        "outputId": "dc143278-52fb-4098-e7b7-c6d874f99149"
      },
      "outputs": [
        {
          "name": "stdout",
          "output_type": "stream",
          "text": [
            "Max deaths:\n",
            "Row(date=datetime.date(2022, 5, 13), county='New York City', state='New York', fips=None, cases=2422658, deaths=40267)\n"
          ]
        }
      ],
      "source": [
        "# RDD MapReduce Style without key\n",
        "rows = df.rdd\n",
        "\n",
        "\n",
        "def getMax(cumm, other):\n",
        "    if other[\"deaths\"] is not None and other[\"deaths\"] > cumm[\"deaths\"]:\n",
        "        return other\n",
        "    else:\n",
        "        return cumm\n",
        "\n",
        "\n",
        "print(\"Max deaths:\")\n",
        "print(rows.reduce(getMax))"
      ]
    },
    {
      "cell_type": "code",
      "execution_count": 8,
      "metadata": {
        "colab": {
          "base_uri": "https://localhost:8080/"
        },
        "id": "W4eWjmuvYaO_",
        "outputId": "5c11f275-478e-4632-e5d2-dbd2c18b961c"
      },
      "outputs": [
        {
          "name": "stdout",
          "output_type": "stream",
          "text": [
            "Max deaths:\n",
            "(40267, 'New York City,New York')\n"
          ]
        }
      ],
      "source": [
        "# RDD MapReduce Style with mapped tuples\n",
        "rows = df.rdd\n",
        "\n",
        "\n",
        "def getMax(cumm, other):\n",
        "    if other[0] > cumm[0]:\n",
        "        return other\n",
        "    else:\n",
        "        return cumm\n",
        "\n",
        "\n",
        "rows = rows.map(lambda r: (r[\"deaths\"] or 0, f\"{r['county']},{r['state']}\"))\n",
        "print(\"Max deaths:\")\n",
        "print(rows.reduce(getMax))"
      ]
    },
    {
      "cell_type": "code",
      "execution_count": 9,
      "metadata": {
        "colab": {
          "base_uri": "https://localhost:8080/"
        },
        "id": "0Dnx2pcKYaO_",
        "outputId": "80422d4a-de80-484d-cbc6-a885804d07d9"
      },
      "outputs": [
        {
          "name": "stdout",
          "output_type": "stream",
          "text": [
            "+-------------+--------+------+\n",
            "|       county|   state|deaths|\n",
            "+-------------+--------+------+\n",
            "|New York City|New York| 40267|\n",
            "+-------------+--------+------+\n",
            "\n"
          ]
        }
      ],
      "source": [
        "# Write code to find the county with the most deaths\n",
        "print(\"Max Death County\")\n",
        "spark.sql(\n",
        "    \"\"\"\n",
        "    select county, state, deaths\n",
        "    from covid\n",
        "    order by deaths desc\n",
        "    limit 1\n",
        "    \"\"\"\n",
        ").show()"
      ]
    },
    {
      "cell_type": "code",
      "execution_count": 14,
      "metadata": {
        "colab": {
          "base_uri": "https://localhost:8080/"
        },
        "id": "PEXc6-t2YaO_",
        "outputId": "479b33e0-6ebc-4aa8-c532-c03dc7ca07c2"
      },
      "outputs": [
        {
          "name": "stdout",
          "output_type": "stream",
          "text": [
            "Max Cases County\n",
            "+-----------+----------+-------+\n",
            "|     county|     state|  cases|\n",
            "+-----------+----------+-------+\n",
            "|Los Angeles|California|2908425|\n",
            "+-----------+----------+-------+\n",
            "\n"
          ]
        }
      ],
      "source": [
        "# Write code to find the county with the most cases\n",
        "print(\"Max Cases County\")\n",
        "spark.sql(\n",
        "    \"\"\"\n",
        "    select county, state, cases\n",
        "    from covid\n",
        "    order by cases desc\n",
        "    limit 1\n",
        "    \"\"\"\n",
        ").show()"
      ]
    },
    {
      "cell_type": "code",
      "execution_count": 16,
      "metadata": {
        "colab": {
          "base_uri": "https://localhost:8080/"
        },
        "id": "RZv1-zj1YaO_",
        "outputId": "e52a2852-08bd-4988-d6d0-1af4c9fb9c53"
      },
      "outputs": [
        {
          "name": "stdout",
          "output_type": "stream",
          "text": [
            "Utah County Deaths\n",
            "+------+-----+------+\n",
            "|county|state|deaths|\n",
            "+------+-----+------+\n",
            "|  Utah| Utah|   791|\n",
            "+------+-----+------+\n",
            "\n"
          ]
        }
      ],
      "source": [
        "# Write code to find the total number of deaths in Utah county\n",
        "print(\"Utah County Deaths\")\n",
        "spark.sql(\n",
        "    \"\"\"\n",
        "    select county, state, deaths\n",
        "    from covid\n",
        "    where state = 'Utah' AND county = 'Utah'\n",
        "    order by deaths desc\n",
        "    limit 1\n",
        "    \"\"\"\n",
        ").show()"
      ]
    },
    {
      "cell_type": "code",
      "execution_count": 24,
      "metadata": {
        "colab": {
          "base_uri": "https://localhost:8080/"
        },
        "id": "BUu6QV0gYaO_",
        "outputId": "2a351e32-3e49-402f-9f69-417c828eed46"
      },
      "outputs": [
        {
          "name": "stdout",
          "output_type": "stream",
          "text": [
            "State Death Rates\n",
            "+--------------------+-------------+\n",
            "|           DeathRate|        state|\n",
            "+--------------------+-------------+\n",
            "| 0.01572292071074506| Pennsylvania|\n",
            "|0.015606461167247017|  Mississippi|\n",
            "|0.015044595741158455|      Alabama|\n",
            "|0.014890612444262373|      Arizona|\n",
            "|0.014729239552703312|       Nevada|\n",
            "| 0.01471106889038076|      Georgia|\n",
            "|0.014620126624458513|     Michigan|\n",
            "|0.014515960564513415|   New Jersey|\n",
            "|0.014486229819563153|   New Mexico|\n",
            "|0.014153086108092123|         Ohio|\n",
            "|0.014084709388278386|     Missouri|\n",
            "|0.014008626216106716|  Connecticut|\n",
            "|0.013778398587225054|      Indiana|\n",
            "| 0.01373330920820223|    Louisiana|\n",
            "|0.013704374797243301|West Virginia|\n",
            "|0.013621137218224505|     Arkansas|\n",
            "|0.013566368223629567|      Florida|\n",
            "|0.013175195613352944|Massachusetts|\n",
            "|0.013146163213431723|     Maryland|\n",
            "|0.013120000121502577|     New York|\n",
            "+--------------------+-------------+\n",
            "only showing top 20 rows\n",
            "\n"
          ]
        }
      ],
      "source": [
        "# Write code to find the death rate for each state and sort the states by death rate descending\n",
        "print(\"State Death Rates\")\n",
        "spark.sql(\n",
        "    \"\"\"\n",
        "    with casesDeathsCounties (\n",
        "      select max(cases) as cases, max(deaths) as deaths, county, state\n",
        "      from covid\n",
        "      group by county, state\n",
        "    ),\n",
        "    totals (\n",
        "      select sum(deaths) as totalDeaths, sum(cases) as totalCases, state\n",
        "      from casesDeathsCounties\n",
        "      group by state\n",
        "    )\n",
        "\n",
        "    select totalDeaths/totalCases as DeathRate, state\n",
        "    from totals\n",
        "    order by DeathRate desc\n",
        "\n",
        "    \"\"\"\n",
        ").show()"
      ]
    },
    {
      "cell_type": "code",
      "execution_count": 27,
      "metadata": {
        "colab": {
          "base_uri": "https://localhost:8080/"
        },
        "id": "9mo8F1gRYaO_",
        "outputId": "41a59682-1280-4eda-a514-c772c7c22f1e"
      },
      "outputs": [
        {
          "name": "stdout",
          "output_type": "stream",
          "text": [
            "Utah Case count\n",
            "+-----+------+\n",
            "|state| cases|\n",
            "+-----+------+\n",
            "| Utah|939092|\n",
            "+-----+------+\n",
            "\n"
          ]
        }
      ],
      "source": [
        "# Write code to something else interesting with this data – your choice\n",
        "print(\"Utah Case count\")\n",
        "spark.sql(\n",
        "    \"\"\"\n",
        "      select state, sum(cases) as cases\n",
        "      from covid\n",
        "      where state = 'Utah'\n",
        "      group by state,date\n",
        "      order by date desc\n",
        "      limit 1\n",
        "    \"\"\"\n",
        ").show()"
      ]
    }
  ],
  "metadata": {
    "colab": {
      "provenance": []
    },
    "kernelspec": {
      "display_name": "Python 3",
      "language": "python",
      "name": "python3"
    },
    "language_info": {
      "codemirror_mode": {
        "name": "ipython",
        "version": 3
      },
      "file_extension": ".py",
      "mimetype": "text/x-python",
      "name": "python",
      "nbconvert_exporter": "python",
      "pygments_lexer": "ipython3",
      "version": "3.11.3"
    }
  },
  "nbformat": 4,
  "nbformat_minor": 0
}
